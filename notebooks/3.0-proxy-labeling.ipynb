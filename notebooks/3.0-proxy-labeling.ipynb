{
 "cells": [
  {
   "cell_type": "code",
   "execution_count": 1,
   "id": "066ac9ce",
   "metadata": {},
   "outputs": [
    {
     "data": {
      "text/plain": [
       "is_high_risk\n",
       "0    2298\n",
       "1    1444\n",
       "Name: count, dtype: int64"
      ]
     },
     "execution_count": 1,
     "metadata": {},
     "output_type": "execute_result"
    }
   ],
   "source": [
    "import sys, pathlib\n",
    "ROOT_DIR = '../'\n",
    "SRC_DIR = ROOT_DIR\n",
    "\n",
    "sys.path.append(str(SRC_DIR))\n",
    "\n",
    "from src.proxy_label_engineering import assign_rfm_clusters\n",
    "import pandas as pd\n",
    "\n",
    "# Load processed features and raw\n",
    "customer_df = pd.read_csv(\"../data/processed/customer_features.csv\")\n",
    "raw_df = pd.read_csv(\"../data/raw/transactions.csv\")\n",
    "\n",
    "# Assign labels\n",
    "labeled_df = assign_rfm_clusters(customer_df, raw_df)\n",
    "\n",
    "# Save\n",
    "labeled_df.to_csv(\"../data/processed/labeled_customers.csv\", index=False)\n",
    "labeled_df['is_high_risk'].value_counts()"
   ]
  },
  {
   "cell_type": "code",
   "execution_count": 2,
   "id": "e72eacfa",
   "metadata": {},
   "outputs": [
    {
     "data": {
      "text/plain": [
       "is_high_risk\n",
       "0    2298\n",
       "1    1444\n",
       "Name: count, dtype: int64"
      ]
     },
     "execution_count": 2,
     "metadata": {},
     "output_type": "execute_result"
    }
   ],
   "source": [
    "labeled_df = assign_rfm_clusters(customer_df, raw_df)\n",
    "labeled_df['is_high_risk'].value_counts()"
   ]
  },
  {
   "cell_type": "code",
   "execution_count": 3,
   "id": "407e1e8f",
   "metadata": {},
   "outputs": [
    {
     "data": {
      "text/html": [
       "<div>\n",
       "<style scoped>\n",
       "    .dataframe tbody tr th:only-of-type {\n",
       "        vertical-align: middle;\n",
       "    }\n",
       "\n",
       "    .dataframe tbody tr th {\n",
       "        vertical-align: top;\n",
       "    }\n",
       "\n",
       "    .dataframe thead th {\n",
       "        text-align: right;\n",
       "    }\n",
       "</style>\n",
       "<table border=\"1\" class=\"dataframe\">\n",
       "  <thead>\n",
       "    <tr style=\"text-align: right;\">\n",
       "      <th></th>\n",
       "      <th>Recency</th>\n",
       "      <th>Transaction_Count</th>\n",
       "      <th>Total_Amount</th>\n",
       "    </tr>\n",
       "    <tr>\n",
       "      <th>is_high_risk</th>\n",
       "      <th></th>\n",
       "      <th></th>\n",
       "      <th></th>\n",
       "    </tr>\n",
       "  </thead>\n",
       "  <tbody>\n",
       "    <tr>\n",
       "      <th>0</th>\n",
       "      <td>-31.792863</td>\n",
       "      <td>0.116117</td>\n",
       "      <td>0.020800</td>\n",
       "    </tr>\n",
       "    <tr>\n",
       "      <th>1</th>\n",
       "      <td>17.236842</td>\n",
       "      <td>-0.184791</td>\n",
       "      <td>-0.033101</td>\n",
       "    </tr>\n",
       "  </tbody>\n",
       "</table>\n",
       "</div>"
      ],
      "text/plain": [
       "                Recency  Transaction_Count  Total_Amount\n",
       "is_high_risk                                            \n",
       "0            -31.792863           0.116117      0.020800\n",
       "1             17.236842          -0.184791     -0.033101"
      ]
     },
     "execution_count": 3,
     "metadata": {},
     "output_type": "execute_result"
    }
   ],
   "source": [
    "# Compare high vs low risk customers\n",
    "labeled_df.groupby(\"is_high_risk\")[[\"Recency\", \"Transaction_Count\", \"Total_Amount\"]].mean()"
   ]
  },
  {
   "cell_type": "code",
   "execution_count": null,
   "id": "bbc0e020",
   "metadata": {},
   "outputs": [],
   "source": []
  }
 ],
 "metadata": {
  "kernelspec": {
   "display_name": "envX",
   "language": "python",
   "name": "python3"
  },
  "language_info": {
   "codemirror_mode": {
    "name": "ipython",
    "version": 3
   },
   "file_extension": ".py",
   "mimetype": "text/x-python",
   "name": "python",
   "nbconvert_exporter": "python",
   "pygments_lexer": "ipython3",
   "version": "3.10.13"
  }
 },
 "nbformat": 4,
 "nbformat_minor": 5
}
